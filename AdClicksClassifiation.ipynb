{
 "cells": [
  {
   "cell_type": "code",
   "execution_count": 68,
   "id": "78158c12",
   "metadata": {},
   "outputs": [],
   "source": [
    "import pandas as pd\n",
    "import numpy as np\n",
    "import seaborn as sns\n",
    "import plotly.express as px\n",
    "import plotly.io as pio\n",
    "import matplotlib.pyplot as plt\n",
    "import scipy.stats\n",
    "from sklearn.model_selection import cross_val_score\n",
    "from sklearn.model_selection import train_test_split\n",
    "from sklearn.metrics import(\n",
    "    f1_score,\n",
    "    roc_auc_score,\n",
    "    precision_score,\n",
    "    recall_score,\n",
    "    top_k_accuracy_score,\n",
    ")\n",
    "from sklearn.metrics import confusion_matrix, ConfusionMatrixDisplay, precision_recall_curve\n",
    "#For Detecting Class Imbalance\n",
    "from sklearn.preprocessing import(\n",
    "    LabelEncoder, \n",
    "    StandardScaler,\n",
    "    OneHotEncoder\n",
    ")\n",
    "from sklearn.impute import SimpleImputer\n",
    "from imblearn.over_sampling import SMOTE\n",
    "\n",
    "#Hyperparameter tuning, data leakage prevention and data sampling techniques\n",
    "from sklearn.pipeline import Pipeline\n",
    "\n",
    "#Model candidates\n",
    "from sklearn.linear_model import LogisticRegression\n",
    "from sklearn.ensemble import RandomForestClassifier\n",
    "\n",
    "#fucking cleaning\n",
    "import warnings\n",
    "warnings.filterwarnings(\"ignore\")\n",
    "\n",
    "#Model Export\n",
    "import joblib"
   ]
  },
  {
   "cell_type": "code",
   "execution_count": 22,
   "id": "8430b039",
   "metadata": {},
   "outputs": [
    {
     "data": {
      "text/html": [
       "<div>\n",
       "<style scoped>\n",
       "    .dataframe tbody tr th:only-of-type {\n",
       "        vertical-align: middle;\n",
       "    }\n",
       "\n",
       "    .dataframe tbody tr th {\n",
       "        vertical-align: top;\n",
       "    }\n",
       "\n",
       "    .dataframe thead th {\n",
       "        text-align: right;\n",
       "    }\n",
       "</style>\n",
       "<table border=\"1\" class=\"dataframe\">\n",
       "  <thead>\n",
       "    <tr style=\"text-align: right;\">\n",
       "      <th></th>\n",
       "      <th>age</th>\n",
       "      <th>gender</th>\n",
       "      <th>device_type</th>\n",
       "      <th>ad_position</th>\n",
       "      <th>browsing_history</th>\n",
       "      <th>time_of_day</th>\n",
       "      <th>click</th>\n",
       "    </tr>\n",
       "  </thead>\n",
       "  <tbody>\n",
       "    <tr>\n",
       "      <th>0</th>\n",
       "      <td>22.0</td>\n",
       "      <td>NaN</td>\n",
       "      <td>Desktop</td>\n",
       "      <td>Top</td>\n",
       "      <td>Shopping</td>\n",
       "      <td>Afternoon</td>\n",
       "      <td>1</td>\n",
       "    </tr>\n",
       "    <tr>\n",
       "      <th>1</th>\n",
       "      <td>NaN</td>\n",
       "      <td>Male</td>\n",
       "      <td>Desktop</td>\n",
       "      <td>Top</td>\n",
       "      <td>NaN</td>\n",
       "      <td>NaN</td>\n",
       "      <td>1</td>\n",
       "    </tr>\n",
       "    <tr>\n",
       "      <th>2</th>\n",
       "      <td>41.0</td>\n",
       "      <td>Non-Binary</td>\n",
       "      <td>NaN</td>\n",
       "      <td>Side</td>\n",
       "      <td>Education</td>\n",
       "      <td>Night</td>\n",
       "      <td>1</td>\n",
       "    </tr>\n",
       "    <tr>\n",
       "      <th>3</th>\n",
       "      <td>34.0</td>\n",
       "      <td>Male</td>\n",
       "      <td>NaN</td>\n",
       "      <td>NaN</td>\n",
       "      <td>Entertainment</td>\n",
       "      <td>Evening</td>\n",
       "      <td>1</td>\n",
       "    </tr>\n",
       "    <tr>\n",
       "      <th>4</th>\n",
       "      <td>39.0</td>\n",
       "      <td>Non-Binary</td>\n",
       "      <td>NaN</td>\n",
       "      <td>NaN</td>\n",
       "      <td>Social Media</td>\n",
       "      <td>Morning</td>\n",
       "      <td>0</td>\n",
       "    </tr>\n",
       "    <tr>\n",
       "      <th>...</th>\n",
       "      <td>...</td>\n",
       "      <td>...</td>\n",
       "      <td>...</td>\n",
       "      <td>...</td>\n",
       "      <td>...</td>\n",
       "      <td>...</td>\n",
       "      <td>...</td>\n",
       "    </tr>\n",
       "    <tr>\n",
       "      <th>9995</th>\n",
       "      <td>NaN</td>\n",
       "      <td>NaN</td>\n",
       "      <td>Mobile</td>\n",
       "      <td>Top</td>\n",
       "      <td>Education</td>\n",
       "      <td>NaN</td>\n",
       "      <td>0</td>\n",
       "    </tr>\n",
       "    <tr>\n",
       "      <th>9996</th>\n",
       "      <td>NaN</td>\n",
       "      <td>Female</td>\n",
       "      <td>Desktop</td>\n",
       "      <td>Bottom</td>\n",
       "      <td>Entertainment</td>\n",
       "      <td>NaN</td>\n",
       "      <td>0</td>\n",
       "    </tr>\n",
       "    <tr>\n",
       "      <th>9997</th>\n",
       "      <td>NaN</td>\n",
       "      <td>Male</td>\n",
       "      <td>Mobile</td>\n",
       "      <td>Side</td>\n",
       "      <td>NaN</td>\n",
       "      <td>Morning</td>\n",
       "      <td>0</td>\n",
       "    </tr>\n",
       "    <tr>\n",
       "      <th>9998</th>\n",
       "      <td>NaN</td>\n",
       "      <td>NaN</td>\n",
       "      <td>Desktop</td>\n",
       "      <td>NaN</td>\n",
       "      <td>Shopping</td>\n",
       "      <td>Morning</td>\n",
       "      <td>1</td>\n",
       "    </tr>\n",
       "    <tr>\n",
       "      <th>9999</th>\n",
       "      <td>44.0</td>\n",
       "      <td>Male</td>\n",
       "      <td>Tablet</td>\n",
       "      <td>Top</td>\n",
       "      <td>Social Media</td>\n",
       "      <td>Morning</td>\n",
       "      <td>0</td>\n",
       "    </tr>\n",
       "  </tbody>\n",
       "</table>\n",
       "<p>10000 rows × 7 columns</p>\n",
       "</div>"
      ],
      "text/plain": [
       "       age      gender device_type ad_position browsing_history time_of_day  \\\n",
       "0     22.0         NaN     Desktop         Top         Shopping   Afternoon   \n",
       "1      NaN        Male     Desktop         Top              NaN         NaN   \n",
       "2     41.0  Non-Binary         NaN        Side        Education       Night   \n",
       "3     34.0        Male         NaN         NaN    Entertainment     Evening   \n",
       "4     39.0  Non-Binary         NaN         NaN     Social Media     Morning   \n",
       "...    ...         ...         ...         ...              ...         ...   \n",
       "9995   NaN         NaN      Mobile         Top        Education         NaN   \n",
       "9996   NaN      Female     Desktop      Bottom    Entertainment         NaN   \n",
       "9997   NaN        Male      Mobile        Side              NaN     Morning   \n",
       "9998   NaN         NaN     Desktop         NaN         Shopping     Morning   \n",
       "9999  44.0        Male      Tablet         Top     Social Media     Morning   \n",
       "\n",
       "      click  \n",
       "0         1  \n",
       "1         1  \n",
       "2         1  \n",
       "3         1  \n",
       "4         0  \n",
       "...     ...  \n",
       "9995      0  \n",
       "9996      0  \n",
       "9997      0  \n",
       "9998      1  \n",
       "9999      0  \n",
       "\n",
       "[10000 rows x 7 columns]"
      ]
     },
     "execution_count": 22,
     "metadata": {},
     "output_type": "execute_result"
    }
   ],
   "source": [
    "df = pd.read_csv(\"ad_click_dataset.csv\")\n",
    "df = df.drop(columns=[\"id\", \"full_name\"])\n",
    "df"
   ]
  },
  {
   "cell_type": "code",
   "execution_count": 4,
   "id": "b31e21da",
   "metadata": {},
   "outputs": [
    {
     "data": {
      "text/plain": [
       "id                     0\n",
       "full_name              0\n",
       "age                 4766\n",
       "gender              4693\n",
       "device_type         2000\n",
       "ad_position         2000\n",
       "browsing_history    4782\n",
       "time_of_day         2000\n",
       "click                  0\n",
       "dtype: int64"
      ]
     },
     "execution_count": 4,
     "metadata": {},
     "output_type": "execute_result"
    }
   ],
   "source": [
    "df.isnull().sum()\n",
    "#Ok, Thers is a need to do label encoding and more im cooked (before data visualization)"
   ]
  },
  {
   "cell_type": "code",
   "execution_count": 26,
   "id": "b325d75a",
   "metadata": {},
   "outputs": [
    {
     "data": {
      "text/html": [
       "<div>\n",
       "<style scoped>\n",
       "    .dataframe tbody tr th:only-of-type {\n",
       "        vertical-align: middle;\n",
       "    }\n",
       "\n",
       "    .dataframe tbody tr th {\n",
       "        vertical-align: top;\n",
       "    }\n",
       "\n",
       "    .dataframe thead th {\n",
       "        text-align: right;\n",
       "    }\n",
       "</style>\n",
       "<table border=\"1\" class=\"dataframe\">\n",
       "  <thead>\n",
       "    <tr style=\"text-align: right;\">\n",
       "      <th></th>\n",
       "      <th>age</th>\n",
       "      <th>gender</th>\n",
       "      <th>device_type</th>\n",
       "      <th>ad_position</th>\n",
       "      <th>browsing_history</th>\n",
       "      <th>time_of_day</th>\n",
       "      <th>click</th>\n",
       "      <th>age_squared</th>\n",
       "      <th>age_cubed</th>\n",
       "      <th>age_adpos</th>\n",
       "      <th>gender_ctr</th>\n",
       "      <th>inv_adpos</th>\n",
       "      <th>log_adpos</th>\n",
       "    </tr>\n",
       "  </thead>\n",
       "  <tbody>\n",
       "    <tr>\n",
       "      <th>0</th>\n",
       "      <td>22</td>\n",
       "      <td>3</td>\n",
       "      <td>0</td>\n",
       "      <td>2</td>\n",
       "      <td>3</td>\n",
       "      <td>0</td>\n",
       "      <td>1</td>\n",
       "      <td>484.00</td>\n",
       "      <td>10648.000</td>\n",
       "      <td>44.0</td>\n",
       "      <td>0.650117</td>\n",
       "      <td>0.500000</td>\n",
       "      <td>1.098612</td>\n",
       "    </tr>\n",
       "    <tr>\n",
       "      <th>1</th>\n",
       "      <td>39</td>\n",
       "      <td>1</td>\n",
       "      <td>0</td>\n",
       "      <td>2</td>\n",
       "      <td>5</td>\n",
       "      <td>4</td>\n",
       "      <td>1</td>\n",
       "      <td>1560.25</td>\n",
       "      <td>61629.875</td>\n",
       "      <td>79.0</td>\n",
       "      <td>0.658011</td>\n",
       "      <td>0.500000</td>\n",
       "      <td>1.098612</td>\n",
       "    </tr>\n",
       "    <tr>\n",
       "      <th>2</th>\n",
       "      <td>41</td>\n",
       "      <td>2</td>\n",
       "      <td>3</td>\n",
       "      <td>1</td>\n",
       "      <td>0</td>\n",
       "      <td>3</td>\n",
       "      <td>1</td>\n",
       "      <td>1681.00</td>\n",
       "      <td>68921.000</td>\n",
       "      <td>41.0</td>\n",
       "      <td>0.632592</td>\n",
       "      <td>1.000000</td>\n",
       "      <td>0.693147</td>\n",
       "    </tr>\n",
       "    <tr>\n",
       "      <th>3</th>\n",
       "      <td>34</td>\n",
       "      <td>1</td>\n",
       "      <td>3</td>\n",
       "      <td>3</td>\n",
       "      <td>1</td>\n",
       "      <td>1</td>\n",
       "      <td>1</td>\n",
       "      <td>1156.00</td>\n",
       "      <td>39304.000</td>\n",
       "      <td>102.0</td>\n",
       "      <td>0.658011</td>\n",
       "      <td>0.333333</td>\n",
       "      <td>1.386294</td>\n",
       "    </tr>\n",
       "    <tr>\n",
       "      <th>4</th>\n",
       "      <td>39</td>\n",
       "      <td>2</td>\n",
       "      <td>3</td>\n",
       "      <td>3</td>\n",
       "      <td>4</td>\n",
       "      <td>2</td>\n",
       "      <td>0</td>\n",
       "      <td>1521.00</td>\n",
       "      <td>59319.000</td>\n",
       "      <td>117.0</td>\n",
       "      <td>0.632592</td>\n",
       "      <td>0.333333</td>\n",
       "      <td>1.386294</td>\n",
       "    </tr>\n",
       "    <tr>\n",
       "      <th>...</th>\n",
       "      <td>...</td>\n",
       "      <td>...</td>\n",
       "      <td>...</td>\n",
       "      <td>...</td>\n",
       "      <td>...</td>\n",
       "      <td>...</td>\n",
       "      <td>...</td>\n",
       "      <td>...</td>\n",
       "      <td>...</td>\n",
       "      <td>...</td>\n",
       "      <td>...</td>\n",
       "      <td>...</td>\n",
       "      <td>...</td>\n",
       "    </tr>\n",
       "    <tr>\n",
       "      <th>9995</th>\n",
       "      <td>39</td>\n",
       "      <td>3</td>\n",
       "      <td>1</td>\n",
       "      <td>2</td>\n",
       "      <td>0</td>\n",
       "      <td>4</td>\n",
       "      <td>0</td>\n",
       "      <td>1560.25</td>\n",
       "      <td>61629.875</td>\n",
       "      <td>79.0</td>\n",
       "      <td>0.650117</td>\n",
       "      <td>0.500000</td>\n",
       "      <td>1.098612</td>\n",
       "    </tr>\n",
       "    <tr>\n",
       "      <th>9996</th>\n",
       "      <td>39</td>\n",
       "      <td>0</td>\n",
       "      <td>0</td>\n",
       "      <td>0</td>\n",
       "      <td>1</td>\n",
       "      <td>4</td>\n",
       "      <td>0</td>\n",
       "      <td>1560.25</td>\n",
       "      <td>61629.875</td>\n",
       "      <td>0.0</td>\n",
       "      <td>0.657579</td>\n",
       "      <td>inf</td>\n",
       "      <td>0.000000</td>\n",
       "    </tr>\n",
       "    <tr>\n",
       "      <th>9997</th>\n",
       "      <td>39</td>\n",
       "      <td>1</td>\n",
       "      <td>1</td>\n",
       "      <td>1</td>\n",
       "      <td>5</td>\n",
       "      <td>2</td>\n",
       "      <td>0</td>\n",
       "      <td>1560.25</td>\n",
       "      <td>61629.875</td>\n",
       "      <td>39.5</td>\n",
       "      <td>0.658011</td>\n",
       "      <td>1.000000</td>\n",
       "      <td>0.693147</td>\n",
       "    </tr>\n",
       "    <tr>\n",
       "      <th>9998</th>\n",
       "      <td>39</td>\n",
       "      <td>3</td>\n",
       "      <td>0</td>\n",
       "      <td>3</td>\n",
       "      <td>3</td>\n",
       "      <td>2</td>\n",
       "      <td>1</td>\n",
       "      <td>1560.25</td>\n",
       "      <td>61629.875</td>\n",
       "      <td>118.5</td>\n",
       "      <td>0.650117</td>\n",
       "      <td>0.333333</td>\n",
       "      <td>1.386294</td>\n",
       "    </tr>\n",
       "    <tr>\n",
       "      <th>9999</th>\n",
       "      <td>44</td>\n",
       "      <td>1</td>\n",
       "      <td>2</td>\n",
       "      <td>2</td>\n",
       "      <td>4</td>\n",
       "      <td>2</td>\n",
       "      <td>0</td>\n",
       "      <td>1936.00</td>\n",
       "      <td>85184.000</td>\n",
       "      <td>88.0</td>\n",
       "      <td>0.658011</td>\n",
       "      <td>0.500000</td>\n",
       "      <td>1.098612</td>\n",
       "    </tr>\n",
       "  </tbody>\n",
       "</table>\n",
       "<p>10000 rows × 13 columns</p>\n",
       "</div>"
      ],
      "text/plain": [
       "      age  gender  device_type  ad_position  browsing_history  time_of_day  \\\n",
       "0      22       3            0            2                 3            0   \n",
       "1      39       1            0            2                 5            4   \n",
       "2      41       2            3            1                 0            3   \n",
       "3      34       1            3            3                 1            1   \n",
       "4      39       2            3            3                 4            2   \n",
       "...   ...     ...          ...          ...               ...          ...   \n",
       "9995   39       3            1            2                 0            4   \n",
       "9996   39       0            0            0                 1            4   \n",
       "9997   39       1            1            1                 5            2   \n",
       "9998   39       3            0            3                 3            2   \n",
       "9999   44       1            2            2                 4            2   \n",
       "\n",
       "      click  age_squared  age_cubed  age_adpos  gender_ctr  inv_adpos  \\\n",
       "0         1       484.00  10648.000       44.0    0.650117   0.500000   \n",
       "1         1      1560.25  61629.875       79.0    0.658011   0.500000   \n",
       "2         1      1681.00  68921.000       41.0    0.632592   1.000000   \n",
       "3         1      1156.00  39304.000      102.0    0.658011   0.333333   \n",
       "4         0      1521.00  59319.000      117.0    0.632592   0.333333   \n",
       "...     ...          ...        ...        ...         ...        ...   \n",
       "9995      0      1560.25  61629.875       79.0    0.650117   0.500000   \n",
       "9996      0      1560.25  61629.875        0.0    0.657579        inf   \n",
       "9997      0      1560.25  61629.875       39.5    0.658011   1.000000   \n",
       "9998      1      1560.25  61629.875      118.5    0.650117   0.333333   \n",
       "9999      0      1936.00  85184.000       88.0    0.658011   0.500000   \n",
       "\n",
       "      log_adpos  \n",
       "0      1.098612  \n",
       "1      1.098612  \n",
       "2      0.693147  \n",
       "3      1.386294  \n",
       "4      1.386294  \n",
       "...         ...  \n",
       "9995   1.098612  \n",
       "9996   0.000000  \n",
       "9997   0.693147  \n",
       "9998   1.386294  \n",
       "9999   1.098612  \n",
       "\n",
       "[10000 rows x 13 columns]"
      ]
     },
     "execution_count": 26,
     "metadata": {},
     "output_type": "execute_result"
    }
   ],
   "source": [
    "#data cleaning & imputation before data visualization\n",
    "imputer = SimpleImputer(strategy=\"median\")\n",
    "encoder = LabelEncoder()\n",
    "\n",
    "#data cleaning and imputed values\n",
    "df[\"age\"] = imputer.fit_transform(df[[\"age\"]]).astype(\"int\")\n",
    "df[\"gender\"] = encoder.fit_transform(df[[\"gender\"]])\n",
    "df[\"device_type\"] = encoder.fit_transform(df[[\"device_type\"]])\n",
    "df[\"ad_position\"] = encoder.fit_transform(df[[\"ad_position\"]])\n",
    "df[\"browsing_history\"] = encoder.fit_transform(df[[\"browsing_history\"]])\n",
    "df[\"time_of_day\"] = encoder.fit_transform(df[[\"time_of_day\"]])\n",
    "df"
   ]
  },
  {
   "cell_type": "code",
   "execution_count": 35,
   "id": "e91748b2",
   "metadata": {},
   "outputs": [
    {
     "data": {
      "image/png": "[encoded data removed]",
      "text/plain": [
       "<Figure size 432x288 with 1 Axes>"
      ]
     },
     "metadata": {
      "needs_background": "light"
     },
     "output_type": "display_data"
    }
   ],
   "source": [
    "#data visualization\n",
    "# Bin age\n",
    "df['age_bin'] = pd.cut(df['age'], bins=[0, 18, 30, 45, 60, 100], labels=['0-18', '19-30', '31-45', '46-60', '60+'])\n",
    "\n",
    "# Plot click rate by age bin\n",
    "sns.barplot(data=df, x='age_bin', y='click', estimator=lambda x: sum(x)/len(x))\n",
    "plt.title(\"Click Rate by Age Group\")\n",
    "plt.ylabel(\"Click-Through Rate\")\n",
    "plt.xlabel(\"Age Group\")\n",
    "#plt.savefig(\"Click Rate by Age Group.png\")\n",
    "plt.show()"
   ]
  },
  {
   "cell_type": "code",
   "execution_count": 36,
   "id": "19579c4a",
   "metadata": {},
   "outputs": [
    {
     "data": {
      "image/png": "[encoded data removed]",
      "text/plain": [
       "<Figure size 608x360 with 1 Axes>"
      ]
     },
     "metadata": {
      "needs_background": "light"
     },
     "output_type": "display_data"
    }
   ],
   "source": [
    "sns.catplot(data=df, x='gender', hue='device_type', y='click', kind='bar', height=5, aspect=1.5)\n",
    "plt.title(\"Click Rate by Gender and Device Type\")\n",
    "plt.ylabel(\"Click-Through Rate\")\n",
    "plt.xlabel(\"Gender\")\n",
    "#plt.savefig(\"Click Rate by Gender and Device Type.png\")\n",
    "plt.show()"
   ]
  },
  {
   "cell_type": "code",
   "execution_count": 38,
   "id": "72eaf112",
   "metadata": {},
   "outputs": [
    {
     "data": {
      "image/png": "[encoded data removed]",
      "text/plain": [
       "<Figure size 432x288 with 1 Axes>"
      ]
     },
     "metadata": {
      "needs_background": "light"
     },
     "output_type": "display_data"
    }
   ],
   "source": [
    "sns.boxplot(data=df, x='ad_position', y='click')\n",
    "plt.title(\"Click Rate Distribution by Ad Position\")\n",
    "plt.ylabel(\"Click (0/1)\")\n",
    "plt.xlabel(\"Ad Position\")\n",
    "#plt.savefig(\"Click Rate Distribution by Ad Position.png\")\n",
    "plt.show()"
   ]
  },
  {
   "cell_type": "code",
   "execution_count": 39,
   "id": "261c935b",
   "metadata": {},
   "outputs": [
    {
     "data": {
      "image/png": "[encoded data removed]",
      "text/plain": [
       "<Figure size 432x288 with 1 Axes>"
      ]
     },
     "metadata": {
      "needs_background": "light"
     },
     "output_type": "display_data"
    }
   ],
   "source": [
    "df['hour'] = df['time_of_day']\n",
    "df['sin_time'] = np.sin(2 * np.pi * df['hour'] / 24)\n",
    "df['cos_time'] = np.cos(2 * np.pi * df['hour'] / 24)\n",
    "\n",
    "# Plot click rate over hour of day\n",
    "hourly_click_rate = df.groupby('hour')['click'].mean().reset_index()\n",
    "sns.lineplot(data=hourly_click_rate, x='hour', y='click')\n",
    "plt.xticks(range(0, 24))\n",
    "plt.title(\"Click Rate Over Time of Day\")\n",
    "plt.ylabel(\"Click-Through Rate\")\n",
    "plt.xlabel(\"Hour\")\n",
    "#plt.savefig(\"Click Rate Over Time of Day.png\")\n",
    "plt.show()"
   ]
  },
  {
   "cell_type": "code",
   "execution_count": 40,
   "id": "4bfe7bb5",
   "metadata": {},
   "outputs": [
    {
     "data": {
      "image/png": "[encoded data removed]",
      "text/plain": [
       "<Figure size 432x288 with 2 Axes>"
      ]
     },
     "metadata": {
      "needs_background": "light"
     },
     "output_type": "display_data"
    }
   ],
   "source": [
    "df_encoded = pd.get_dummies(df[['age', 'gender', 'device_type', 'ad_position', 'time_of_day']], drop_first=True)\n",
    "df_encoded['click'] = df['click']\n",
    "\n",
    "sns.heatmap(df_encoded.corr(), annot=True, fmt=\".2f\", cmap=\"coolwarm\")\n",
    "plt.title(\"Correlation Matrix with Click\")\n",
    "#plt.savefig(\"Correlation Matrix with Click.png\")\n",
    "plt.show()"
   ]
  },
  {
   "cell_type": "code",
   "execution_count": 12,
   "id": "1668f946",
   "metadata": {},
   "outputs": [],
   "source": [
    "fig = px.sunburst(df, path=['gender', 'device_type', 'ad_position'], values='click', color='click',\n",
    "                  color_continuous_scale='RdBu', title='Click Distribution Across Categories')\n",
    "\n",
    "# Save to interactive HTML\n",
    "pio.write_html(fig, file='sunburst_chart.html', auto_open=False)"
   ]
  },
  {
   "cell_type": "code",
   "execution_count": 20,
   "id": "04360ba5",
   "metadata": {},
   "outputs": [
    {
     "data": {
      "image/png": "[encoded data removed]",
      "text/plain": [
       "<Figure size 432x288 with 1 Axes>"
      ]
     },
     "metadata": {
      "needs_background": "light"
     },
     "output_type": "display_data"
    }
   ],
   "source": [
    "#Detecting Class Imbalance\n",
    "imbalance_counts = df[\"click\"].value_counts()\n",
    "sns.boxplot(imbalance_counts)\n",
    "#plt.savefig(\"Class Imbalance.png\")\n",
    "plt.show()"
   ]
  },
  {
   "cell_type": "code",
   "execution_count": 38,
   "id": "702be8d4",
   "metadata": {},
   "outputs": [],
   "source": [
    "#Feature Engineering for the dataset\n",
    "def EngineerFeatures(df):\n",
    "    # Polynomial age features\n",
    "    df['age_squared'] = df['age'] ** 2\n",
    "    df['age_cubed'] = df['age'] ** 3\n",
    "    df['age_adpos'] = df['age'] * df['ad_position']\n",
    "    \n",
    "    # Target encoding by gender\n",
    "    df['gender_ctr'] = df.groupby('gender')['click'].transform('mean')\n",
    "    \n",
    "    # Ad position transforms\n",
    "    df['inv_adpos'] = 1 / (df['ad_position'] + 1e-6)  # avoid divide by zero\n",
    "    df['log_adpos'] = np.log1p(df['ad_position'])\n",
    "\n",
    "    # Cross feature: gender × device_type (numerical ID)\n",
    "    df['gender_device_encoded'] = (df['gender'] * 10) + df['device_type']  # example: 1×10 + 0 = 10\n",
    "\n",
    "    # Cross feature: age_group × device_type (fully numeric)\n",
    "    df['age_group'] = pd.cut(\n",
    "        df['age'], bins=[0, 18, 30, 45, 60, 100], labels=False\n",
    "    )\n",
    "    df['age_group_device_encoded'] = (df['age_group'] * 10) + df['device_type']\n",
    "\n",
    "    # Rolling CTR (time-ordered)\n",
    "    df['rolling_ctr_3'] = df['click'].rolling(window=3, min_periods=1).mean()\n",
    "\n",
    "    # Lag features\n",
    "    df['prev_click'] = df['click'].shift(1)\n",
    "    df['time_since_last_click'] = df['time_of_day'].diff().fillna(0)\n",
    "    df['lag_1_click'] = df['click'].shift(1)\n",
    "    df['lag_2_adpos'] = df['ad_position'].shift(2)\n",
    "\n",
    "    # Rank within device\n",
    "    df['rank_in_device'] = df.groupby('device_type')['ad_position'].rank()\n",
    "\n",
    "    # Browsing history entropy\n",
    "    def compute_bh_entropy(browsing_str):\n",
    "        if pd.isnull(browsing_str):\n",
    "            return 0.0\n",
    "        browsing_str = str(browsing_str)\n",
    "        categories = browsing_str.split(',')\n",
    "        value_counts = pd.Series(categories).value_counts(normalize=True)\n",
    "        return scipy.stats.entropy(value_counts)\n",
    "\n",
    "    df['bh_entropy'] = df['browsing_history'].apply(compute_bh_entropy)\n",
    "\n",
    "    # Behavior score (all numeric)\n",
    "    def behavior_score(row):\n",
    "        entropy = row['bh_entropy']\n",
    "        click_rate = row['gender_ctr']\n",
    "        device_penalty = 1 if row['device_type'] == 1 else 0.5\n",
    "        return entropy * click_rate * device_penalty\n",
    "\n",
    "    df['behavior_score'] = df.apply(behavior_score, axis=1)\n",
    "\n",
    "    # Cumulative clicks\n",
    "    df['cum_clicks_by_device'] = df.groupby('device_type')['click'].cumsum()\n",
    "\n",
    "    # Remove any remaining strings just in case\n",
    "    df = df.select_dtypes(exclude=['object'])\n",
    "\n",
    "    # Final clean-up\n",
    "    df = df.fillna(0)\n",
    "\n",
    "    return df"
   ]
  },
  {
   "cell_type": "code",
   "execution_count": 70,
   "id": "0ccb3051",
   "metadata": {},
   "outputs": [
    {
     "name": "stdout",
     "output_type": "stream",
     "text": [
      "Cross-validated F1 scores for LogisticRegression: [0.78504673 0.77762106 0.79238272 0.7839102  0.78787879]\n",
      "Mean F1 score: 0.7853678995217936\n"
     ]
    }
   ],
   "source": [
    "#Model Building and Evaluation\n",
    "df = EngineerFeatures(df)\n",
    "X = df.drop(\"click\", axis=1)\n",
    "y = df[\"click\"]\n",
    "\n",
    "X_train, X_test, Y_train, Y_test = train_test_split(X, y, stratify=y, test_size=0.2, random_state=42)\n",
    "\n",
    "pipe = Pipeline([\n",
    "    (\"scaler\", StandardScaler()),\n",
    "    (\"model\", LogisticRegression(penalty='l2', C=0.1, solver='saga', max_iter=1000, class_weight='balanced', random_state=42, n_jobs=-1))\n",
    "])\n",
    "\n",
    "scores = cross_val_score(pipe, X, y, cv=5, scoring='f1')  # or 'accuracy', 'roc_auc', etc.\n",
    "print(\"Cross-validated F1 scores for LogisticRegression:\", scores)\n",
    "print(\"Mean F1 score:\", scores.mean())"
   ]
  },
  {
   "cell_type": "code",
   "execution_count": 71,
   "id": "e4377518",
   "metadata": {},
   "outputs": [
    {
     "name": "stdout",
     "output_type": "stream",
     "text": [
      "Cross-validated F1 scores for RandomForestClassifier: [0.82599401 0.82202305 0.83206107 0.82761615 0.8365019 ]\n",
      "Mean F1 score: 0.8288392369196755\n"
     ]
    }
   ],
   "source": [
    "#For Random Forest Classifier to see which is the best model to use\n",
    "pipe_2 = Pipeline([\n",
    "    (\"scaler\", StandardScaler()), \n",
    "    (\"model\", RandomForestClassifier(n_estimators=200, max_depth=15, min_samples_split=5, min_samples_leaf=2, max_features='sqrt', bootstrap=True, class_weight='balanced', random_state=42, n_jobs=-1))\n",
    "])\n",
    "\n",
    "scores_2 = cross_val_score(pipe_2, X, y, cv=5, scoring='f1')  # or 'accuracy', 'roc_auc', etc.\n",
    "print(\"Cross-validated F1 scores for RandomForestClassifier:\", scores_2)\n",
    "print(\"Mean F1 score:\", scores_2.mean())"
   ]
  },
  {
   "cell_type": "code",
   "execution_count": 79,
   "id": "417171b8",
   "metadata": {},
   "outputs": [],
   "source": [
    "#Ok, we are using the 1st model\n",
    "pipe.fit(X_train, Y_train)\n",
    "\n",
    "y_pred = pipe.predict(X_test)"
   ]
  },
  {
   "cell_type": "code",
   "execution_count": 47,
   "id": "c52e351a",
   "metadata": {},
   "outputs": [],
   "source": [
    "def evaluate_model(model, X_test, y_test):\n",
    "    y_pred = model.predict(X_test)\n",
    "    y_proba = model.predict_proba(X_test)[:, 1]\n",
    "\n",
    "    print(\"F1 Score:       \", f1_score(y_test, y_pred))\n",
    "    print(\"Precision:      \", precision_score(y_test, y_pred))\n",
    "    print(\"Recall:         \", recall_score(y_test, y_pred))\n",
    "    print(\"ROC AUC:        \", roc_auc_score(y_test, y_proba))\n",
    "    print(\"Top-1 Accuracy: \", top_k_accuracy_score(y_test, y_proba.reshape(-1, 1), k=1))"
   ]
  },
  {
   "cell_type": "code",
   "execution_count": 80,
   "id": "d5897d0e",
   "metadata": {},
   "outputs": [
    {
     "name": "stdout",
     "output_type": "stream",
     "text": [
      "F1 Score:        0.790134946486738\n",
      "Precision:       1.0\n",
      "Recall:          0.6530769230769231\n",
      "ROC AUC:         0.8935043956043955\n",
      "Top-1 Accuracy:  0.7745\n"
     ]
    }
   ],
   "source": [
    "#Model Test Results\n",
    "evaluate_model(pipe, X_test, Y_test)"
   ]
  },
  {
   "cell_type": "code",
   "execution_count": 81,
   "id": "efb6ab40",
   "metadata": {},
   "outputs": [
    {
     "data": {
      "image/png": "[encoded data removed]",
      "text/plain": [
       "<Figure size 432x288 with 2 Axes>"
      ]
     },
     "metadata": {
      "needs_background": "light"
     },
     "output_type": "display_data"
    }
   ],
   "source": [
    "y_proba = pipe.predict_proba(X_test)[:, 1]\n",
    "y_pred = pipe.predict(X_test)\n",
    "y_pred_custom = (y_proba >= 0.3).astype(int) \n",
    "\n",
    "cm = confusion_matrix(Y_test, y_pred_custom)\n",
    "disp = ConfusionMatrixDisplay(confusion_matrix=cm)\n",
    "disp.plot(cmap='Blues', values_format='d')  # 'd' for integer formatting\n",
    "\n",
    "plt.title(\"Confusion Matrix\")\n",
    "plt.savefig(\"Confusion Matrix.png\")\n",
    "plt.show()"
   ]
  },
  {
   "cell_type": "code",
   "execution_count": 82,
   "id": "e3468d7a",
   "metadata": {},
   "outputs": [
    {
     "data": {
      "image/png": "[encoded data removed]",
      "text/plain": [
       "<Figure size 432x288 with 1 Axes>"
      ]
     },
     "metadata": {
      "needs_background": "light"
     },
     "output_type": "display_data"
    }
   ],
   "source": [
    "prec, rec, thresholds = precision_recall_curve(Y_test, y_proba)\n",
    "plt.plot(thresholds, prec[:-1], label='Precision')\n",
    "plt.plot(thresholds, rec[:-1], label='Recall')\n",
    "plt.xlabel('Threshold')\n",
    "plt.ylabel('Score')\n",
    "plt.title('Precision vs Recall Curve')\n",
    "plt.legend()\n",
    "plt.grid()\n",
    "plt.savefig(\"Precision vs Recall Curve.png\")\n",
    "plt.show()"
   ]
  },
  {
   "cell_type": "code",
   "execution_count": 83,
   "id": "c6b6318c",
   "metadata": {},
   "outputs": [
    {
     "name": "stdout",
     "output_type": "stream",
     "text": [
      "Best threshold for F1: 0.30587831585261965\n",
      "Best F1 score: 0.853706923488765\n"
     ]
    }
   ],
   "source": [
    "prec, rec, thresholds = precision_recall_curve(Y_test, y_proba)\n",
    "f1 = 2 * (prec * rec) / (prec + rec + 1e-6)\n",
    "best_thresh = thresholds[np.argmax(f1)]\n",
    "best_f1 = np.max(f1)\n",
    "\n",
    "print(\"Best threshold for F1:\", best_thresh)\n",
    "print(\"Best F1 score:\", best_f1)"
   ]
  },
  {
   "cell_type": "code",
   "execution_count": 84,
   "id": "5060e649",
   "metadata": {},
   "outputs": [
    {
     "data": {
      "image/png": "[encoded data removed]",
      "text/plain": [
       "<Figure size 432x288 with 1 Axes>"
      ]
     },
     "metadata": {
      "needs_background": "light"
     },
     "output_type": "display_data"
    }
   ],
   "source": [
    "plt.plot(thresholds, prec[:-1], label='Precision')\n",
    "plt.plot(thresholds, rec[:-1], label='Recall')\n",
    "plt.plot(thresholds, f1[:-1], label='F1')\n",
    "plt.xlabel('Threshold')\n",
    "plt.ylabel('Score')\n",
    "plt.title('Precision, Recall, and F1 vs Threshold')\n",
    "plt.legend()\n",
    "plt.grid()\n",
    "plt.savefig(\"Precision, Recall, and F1 vs Threshold.png\")\n",
    "plt.show()"
   ]
  },
  {
   "cell_type": "code",
   "execution_count": 85,
   "id": "563b1a7d",
   "metadata": {},
   "outputs": [
    {
     "name": "stdout",
     "output_type": "stream",
     "text": [
      "Precision: 0.7544273907910272\n",
      "Recall:    0.9830769230769231\n",
      "F1 Score:  0.8537074148296593\n",
      "Confusion Matrix:\n",
      " [[ 284  416]\n",
      " [  22 1278]]\n"
     ]
    }
   ],
   "source": [
    "#Final Scoring for the model\n",
    "# Predict using best threshold\n",
    "y_pred_optimal = (y_proba >= 0.3058).astype(int)\n",
    "\n",
    "# Evaluate again\n",
    "print(\"Precision:\", precision_score(Y_test, y_pred_optimal))\n",
    "print(\"Recall:   \", recall_score(Y_test, y_pred_optimal))\n",
    "print(\"F1 Score: \", f1_score(Y_test, y_pred_optimal))\n",
    "print(\"Confusion Matrix:\\n\", confusion_matrix(Y_test, y_pred_optimal))"
   ]
  },
  {
   "cell_type": "code",
   "execution_count": 86,
   "id": "443ec47c",
   "metadata": {},
   "outputs": [
    {
     "data": {
      "image/png": "[encoded data removed]",
      "text/plain": [
       "<Figure size 432x288 with 2 Axes>"
      ]
     },
     "metadata": {
      "needs_background": "light"
     },
     "output_type": "display_data"
    }
   ],
   "source": [
    "#Plotting the best classification model\n",
    "cm = confusion_matrix(Y_test, y_pred_optimal)\n",
    "disp = ConfusionMatrixDisplay(confusion_matrix=cm)\n",
    "disp.plot(cmap='Blues', values_format='d')  # 'd' for integer formatting\n",
    "\n",
    "plt.title(\"Confusion Matrix\")\n",
    "plt.savefig(\"Final Confusion Matrix.png\")\n",
    "plt.show()"
   ]
  },
  {
   "cell_type": "code",
   "execution_count": 87,
   "id": "464521c6",
   "metadata": {},
   "outputs": [
    {
     "data": {
      "text/plain": [
       "['best_threshold.pkl']"
      ]
     },
     "execution_count": 87,
     "metadata": {},
     "output_type": "execute_result"
    }
   ],
   "source": [
    "#exporting the model for production ready use\n",
    "joblib.dump(pipe, \"final_model.pkl\")\n",
    "joblib.dump(0.3058, \"best_threshold.pkl\")"
   ]
  }
 ],
 "metadata": {
  "kernelspec": {
   "display_name": "Python 3",
   "language": "python",
   "name": "python3"
  },
  "language_info": {
   "codemirror_mode": {
    "name": "ipython",
    "version": 3
   },
   "file_extension": ".py",
   "mimetype": "text/x-python",
   "name": "python",
   "nbconvert_exporter": "python",
   "pygments_lexer": "ipython3",
   "version": "3.6.9"
  }
 },
 "nbformat": 4,
 "nbformat_minor": 5
}
